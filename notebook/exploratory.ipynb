{
  "cells": [
    {
      "cell_type": "markdown",
      "source": [
        "# Data Exploratory and Visualization\n",
        "\n",
        "@author: Mike Yuan, Shayne Andrew\n",
        "\n",
        "Date: April 2019\n",
        "\n",
        "About: This file is meant to read the raw csv, perform EDA and basic data cleaning\n",
        "\n"
      ],
      "metadata": {}
    },
    {
      "cell_type": "markdown",
      "source": [
        "## Load Library and helper functions\n"
      ],
      "metadata": {}
    },
    {
      "cell_type": "code",
      "source": [
        "# import library\n",
        "library(tidyverse)\n",
        "library(ggplot2)\n",
        "library(stringr)\n",
        "\n"
      ],
      "outputs": [],
      "execution_count": null,
      "metadata": {
        "collapsed": false,
        "outputHidden": false,
        "inputHidden": false
      }
    },
    {
      "cell_type": "code",
      "source": [
        "# helper functions\n",
        "\n",
        "to_bool <- function(x) {ifelse(x == 'True', TRUE, FALSE)}\n",
        "\n"
      ],
      "outputs": [],
      "execution_count": null,
      "metadata": {
        "collapsed": false,
        "outputHidden": false,
        "inputHidden": false
      }
    },
    {
      "cell_type": "markdown",
      "source": [
        "## Define global varible for binwidth when plotting histogram\n"
      ],
      "metadata": {}
    },
    {
      "cell_type": "code",
      "source": [
        "# set global variables\n",
        "\n",
        "BIN_WIDTH = 2.0\n",
        "PREPATH = ''\n"
      ],
      "outputs": [],
      "execution_count": null,
      "metadata": {
        "collapsed": false,
        "outputHidden": false,
        "inputHidden": false
      }
    },
    {
      "cell_type": "markdown",
      "source": [
        "## Reading and preparing the data dataframe\n",
        "**IMPORTANT!!!** Depend on where you run the file, assigned `\"../\"` to `PREPATH` above. Otherwise, keep it `''` if you are running from project's `root` directory"
      ],
      "metadata": {}
    },
    {
      "cell_type": "code",
      "source": [
        "# read csv\n",
        "raw_df <- read.csv(paste(PREPATH, 'data/mds-retention_2019-04-04.csv', sep=\"\" ),\n",
        "  stringsAsFactors = FALSE)\n",
        "\n",
        "# load answer keys\n",
        "\n",
        "answer_key <- read.csv(paste(PREPATH, 'data/answer_key.csv', sep=\"\" ),\n",
        "  stringsAsFactors = FALSE)\n"
      ],
      "outputs": [],
      "execution_count": null,
      "metadata": {
        "collapsed": false,
        "outputHidden": false,
        "inputHidden": false
      }
    },
    {
      "cell_type": "code",
      "source": [
        "# data cleaning\n",
        "# remove second row as irrlevant\n",
        "raw_df <- raw_df[-2,]\n",
        "\n",
        "# get only the questions\n",
        "raw_df <- raw_df %>% select(matches(\"Q[0-9]\"))\n",
        "questions <- unname(unlist(raw_df[1,]))\n",
        "\n",
        "# removed unwanted row and enforce questions as columns\n",
        "raw_df <- raw_df[-1,]\n",
        "names(raw_df) <- questions\n",
        "\n",
        "#  get deciding factors\n",
        "d_factors <- raw_df[,1:5]\n",
        "\n",
        "# convert character to numeric for hours\n",
        "d_factors[,2:5] <- sapply( d_factors[,2:5], as.numeric )\n",
        "\n",
        "retentions <- raw_df[,6:ncol(raw_df)]\n",
        "# convert character to bool for retention question\n",
        "retentions <- retentions %>%\n",
        "  mutate_all(to_bool)\n",
        "\n",
        "# enforce the questions in answer_key and dataframe matche\n",
        "answer_key$questions <- colnames(retentions)\n",
        "\n"
      ],
      "outputs": [],
      "execution_count": null,
      "metadata": {
        "collapsed": false,
        "outputHidden": false,
        "inputHidden": false
      }
    },
    {
      "cell_type": "code",
      "source": [
        "# save clean data\n",
        "clean_df <- d_factors %>%\n",
        "  cbind(retentions)\n",
        "\n\n",
        "cat(sprintf(\"\\n========>saving clean data to result\\n\\n\"))\n",
        "write.csv(clean_df , file = paste(PREPATH, 'result/clean_data_long.csv', sep=\"\"))\n",
        "\n",
        "# showing the head of the clean data for Rmd\n",
        "head(clean_df)\n"
      ],
      "outputs": [],
      "execution_count": null,
      "metadata": {
        "collapsed": false,
        "outputHidden": false,
        "inputHidden": false
      }
    },
    {
      "cell_type": "markdown",
      "source": [
        "### Preparing clean data for data analysis\n",
        "The goal here is to create a clean dataset with shorter header and score for each question\n",
        "Also, include the average score\n"
      ],
      "metadata": {}
    },
    {
      "cell_type": "code",
      "source": [
        "# prepare for clean data with short handing for data anaysis\n",
        "clean_data_short <- clean_df\n",
        "\n",
        "# d for deciding factors\n",
        "# r for retention questions\n",
        "# s for score for each retention question\n",
        "colnames(clean_data_short) <- c('d1', 'd2', 'd3', 'd4', 'd5',\n",
        "                                'r1', 'r2', 'r3', 'r4', 'r5', 'r6')\n",
        "clean_data_short <- clean_data_short %>%\n",
        "  mutate(s1 = (r1 == TRUE),\n",
        "         s2 = (r2 == FALSE),\n",
        "         s3 = (r3 == FALSE),\n",
        "         s4 = (r4 == TRUE),\n",
        "         s5 = (r5 == FALSE),\n",
        "         s6 = (r6 == FALSE)) %>%\n",
        "  mutate(average = (s1 + s2 + s3 + s4 + s5 + s6)/6)\n",
        "\n",
        "cat(sprintf(\"\\n========>saving clean data with short header and scores\\n\\n\"))\n",
        "write.csv(clean_data_short , file = paste(PREPATH, 'result/clean_data_short.csv', sep=\"\"))\n",
        "\n"
      ],
      "outputs": [],
      "execution_count": null,
      "metadata": {
        "collapsed": false,
        "outputHidden": false,
        "inputHidden": false
      }
    },
    {
      "cell_type": "code",
      "source": [
        "# make plot for deciding factors\n",
        "cat(sprintf(\"\\n========> saving deciding factor plots\\n\\n\"))\n",
        "discrete_d_factor_plt <- d_factors[,c(-4,-5)] %>%\n",
        "  gather(key=\"questions\", value=\"answers\") %>%\n",
        "  ggplot(aes(x = answers)) +\n",
        "  geom_bar( stat = 'count') +\n",
        "  facet_wrap(~questions,scales = \"free\", ncol=1)\n",
        "\n",
        "ggsave(filename=\"discrete_deciding_factors.png\",\n",
        "  plot=discrete_d_factor_plt,\n",
        "  path= paste(PREPATH, 'img', sep=\"\"))\n",
        "\n\n",
        "continuous_d_factors_hist <- d_factors[,c(4,5)] %>%\n",
        "    gather(key=\"questions\", value=\"answers\") %>%\n",
        "    ggplot(aes(x = answers)) +\n",
        "    geom_histogram(binwidth=BIN_WIDTH) +\n",
        "    facet_wrap(~questions,scales = \"free\", ncol=1)\n",
        "\n",
        "ggsave(filename=\"continuous_deciding_factors_hist.png\",\n",
        "  plot=continuous_d_factors_hist,\n",
        "  path= paste(PREPATH, 'img', sep=\"\"))\n",
        "\n\n",
        "continuous_d_factors_preq <- d_factors[,c(4,5)] %>%\n",
        "    gather(key=\"questions\", value=\"answers\") %>%\n",
        "    ggplot(aes(x = answers)) +\n",
        "    geom_freqpoly(binwidth=BIN_WIDTH) +\n",
        "    facet_wrap(~questions,scales = \"free\", ncol=1)\n",
        "\n",
        "ggsave(filename=\"continuous_deciding_factors_freqp.png\",\n",
        "  plot=continuous_d_factors_preq,\n",
        "  path= paste(PREPATH, 'img', sep=\"\"))\n"
      ],
      "outputs": [],
      "execution_count": null,
      "metadata": {
        "collapsed": false,
        "outputHidden": false,
        "inputHidden": false
      }
    },
    {
      "cell_type": "markdown",
      "source": [
        "Show deciding factor plots\n"
      ],
      "metadata": {}
    },
    {
      "cell_type": "code",
      "source": [
        "# show continous\n",
        "continuous_d_factors_preq\n",
        "continuous_d_factors_hist\n",
        "discrete_d_factor_plt\n"
      ],
      "outputs": [],
      "execution_count": null,
      "metadata": {
        "collapsed": false,
        "outputHidden": false,
        "inputHidden": false
      }
    },
    {
      "cell_type": "code",
      "source": [
        "# plot the retention questions\n",
        "\n\n",
        "retentions <- sapply( retentions, as.character )\n",
        "\n",
        "# preparing the dataframe to get the correctness of each answer\n",
        "retentions <- as.data.frame(retentions) %>%\n",
        "    gather(key=\"questions\", value=\"answers\") %>%\n",
        "    left_join(answer_key, by='questions') %>%\n",
        "    mutate(correct = (answers == answer_key))\n",
        "\n\n",
        "retentions_plot <- retentions %>%\n",
        "  mutate(questions = str_wrap(questions, width =  25)) %>%\n",
        "  ggplot(aes(x = answers, fill = correct)) +\n",
        "  geom_bar(stat=\"count\") +\n",
        "  facet_wrap(~questions,scales = \"free\", ncol=3)\n",
        "\n",
        "cat(sprintf(\"\\n========> saving retention question plots\\n\\n\"))\n",
        "ggsave(filename=\"retentions.png\",\n",
        "  plot=retentions_plot,\n",
        "  path= paste(PREPATH, 'img', sep=\"\"))\n"
      ],
      "outputs": [],
      "execution_count": null,
      "metadata": {
        "collapsed": false,
        "outputHidden": false,
        "inputHidden": false
      }
    },
    {
      "cell_type": "markdown",
      "source": [
        "show renteion plot"
      ],
      "metadata": {}
    },
    {
      "cell_type": "code",
      "source": [
        "# show retention plot\n",
        "retentions_plot\n"
      ],
      "outputs": [],
      "execution_count": null,
      "metadata": {
        "collapsed": false,
        "outputHidden": false,
        "inputHidden": false
      }
    },
    {
      "cell_type": "markdown",
      "source": [
        "show distribution of the average scores"
      ],
      "metadata": {}
    },
    {
      "cell_type": "code",
      "source": [
        "score_distribution_plot <- clean_data_short %>%\n",
        "  ggplot(aes(x = average)) +\n",
        "  geom_density( fill ='lightblue') +\n",
        "  labs(title='Distribution of average scores',\n",
        "       x='Overall average out of 6 questions',\n",
        "       y = 'Score distribution')\n",
        "\n\n",
        "cat(sprintf(\"\\n========> saving score average distribution plot\\n\\n\"))\n",
        "ggsave(filename=\"score_average.png\",\n",
        "  plot=score_distribution_plot,\n",
        "  path= paste(PREPATH, 'img', sep=\"\"))\n",
        "\n",
        "# save historgram\n",
        "score_hist_plot <- clean_data_short %>%\n",
        "  ggplot(aes(x = average)) +\n",
        "  geom_histogram(bins=6) +\n",
        "  labs(title='Distribution of average scores',\n",
        "       x='Overall average out of 6 questions',\n",
        "       y = 'Score distribution')\n",
        "\n\n",
        "cat(sprintf(\"\\n========> saving score average histogram plot\\n\\n\"))\n",
        "ggsave(filename=\"score_average_hist.png\",\n",
        "  plot=score_hist_plot,\n",
        "  path= paste(PREPATH, 'img', sep=\"\"))\n",
        "\n"
      ],
      "outputs": [],
      "execution_count": null,
      "metadata": {
        "collapsed": false,
        "outputHidden": false,
        "inputHidden": false
      }
    },
    {
      "cell_type": "markdown",
      "source": [
        "Show score average plots\n"
      ],
      "metadata": {}
    },
    {
      "cell_type": "code",
      "source": [
        "score_hist_plot\n",
        "score_distribution_plot"
      ],
      "outputs": [],
      "execution_count": null,
      "metadata": {
        "collapsed": false,
        "outputHidden": false,
        "inputHidden": false
      }
    }
  ],
  "metadata": {
    "kernelspec": {
      "argv": [
        "/Library/Frameworks/R.framework/Resources/bin/R",
        "--slave",
        "-e",
        "IRkernel::main()",
        "--args",
        "{connection_file}"
      ],
      "display_name": "R",
      "language": "R",
      "name": "ir"
    }
  },
  "nbformat": 4,
  "nbformat_minor": 4
}