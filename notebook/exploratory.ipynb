{
  "cells": [
    {
      "cell_type": "markdown",
      "source": [
        "## Data Visualization"
      ],
      "metadata": {}
    },
    {
      "cell_type": "code",
      "source": [
        "# import library\n",
        "library(tidyverse)\n",
        "library(ggplot2)\n",
        "library(stringr)\n",
        "\n"
      ],
      "outputs": [],
      "execution_count": null,
      "metadata": {
        "collapsed": false,
        "outputHidden": false,
        "inputHidden": false
      }
    },
    {
      "cell_type": "code",
      "source": [
        "# helper functions\n",
        "\n",
        "to_bool <- function(x) {ifelse(x == 'True', TRUE, FALSE)}\n"
      ],
      "outputs": [],
      "execution_count": null,
      "metadata": {
        "collapsed": false,
        "outputHidden": false,
        "inputHidden": false
      }
    },
    {
      "cell_type": "code",
      "source": [
        "# set global variables\n",
        "\n",
        "BIN_WIDTH = 2.0\n"
      ],
      "outputs": [],
      "execution_count": null,
      "metadata": {
        "collapsed": false,
        "outputHidden": false,
        "inputHidden": false
      }
    },
    {
      "cell_type": "code",
      "source": [
        "# read csv\n",
        "raw_df <- read.csv('data/mds-retention_2019-04-04.csv', stringsAsFactors = FALSE)\n",
        "\n",
        "#print(head(raw_df))\n"
      ],
      "outputs": [],
      "execution_count": null,
      "metadata": {
        "collapsed": false,
        "outputHidden": false,
        "inputHidden": false
      }
    },
    {
      "cell_type": "code",
      "source": [
        "# data cleaning\n",
        "# remove second row as irrlevant\n",
        "raw_df <- raw_df[-2,]\n",
        "\n",
        "# get only the questions\n",
        "raw_df <- raw_df %>% select(matches(\"Q[0-9]\"))\n",
        "\n\n\n",
        "questions <- unname(unlist(raw_df[1,]))\n",
        "\n",
        "raw_df <- raw_df[-1,]\n",
        "names(raw_df) <- questions\n",
        "\n",
        "# %\n",
        "#  get deciding factors\n",
        "d_factors <- raw_df[,1:5]\n",
        "\n",
        "# convert character to numeric for hours\n",
        "d_factors[,2:5] <- sapply( d_factors[,2:5], as.numeric )\n",
        "\n",
        "retentions <- raw_df[,6:ncol(raw_df)]\n",
        "# convert character to bool for retention question\n",
        "retentions <- retentions %>%\n",
        "  mutate_all(to_bool)\n",
        "\n"
      ],
      "outputs": [],
      "execution_count": null,
      "metadata": {
        "collapsed": false,
        "outputHidden": false,
        "inputHidden": false
      }
    },
    {
      "cell_type": "code",
      "source": [
        "# save clean data\n",
        "clean_df <- d_factors %>%\n",
        "  cbind(retentions)\n",
        "cat(sprintf(\"\\n========>saving clean data to result\\n\\n\"))\n",
        "write.csv(clean_df , file = 'result/clean_data.csv')\n"
      ],
      "outputs": [],
      "execution_count": null,
      "metadata": {
        "collapsed": false,
        "outputHidden": false,
        "inputHidden": false
      }
    },
    {
      "cell_type": "code",
      "source": [
        "# make plot for deciding factors\n",
        "discrete_d_factor_plt <- d_factors[,c(-4,-5)] %>%\n",
        "  gather(key=\"questions\", value=\"answers\") %>%\n",
        "  ggplot(aes(x = answers)) +\n",
        "  geom_bar( stat = 'count') +\n",
        "  facet_wrap(~questions,scales = \"free\", ncol=1)\n",
        "\n",
        "ggsave(filename=\"discrete_deciding_factors.png\",\n",
        "  plot=discrete_d_factor_plt,\n",
        "  path='img')\n",
        "\n\n",
        "continuois_d_factors_hist <- d_factors[,c(4,5)] %>%\n",
        "    gather(key=\"questions\", value=\"answers\") %>%\n",
        "    ggplot(aes(x = answers)) +\n",
        "    geom_histogram(binwidth=BIN_WIDTH) +\n",
        "    facet_wrap(~questions,scales = \"free\", ncol=1)\n",
        "\n",
        "ggsave(filename=\"continuous_deciding_factors_hist.png\",\n",
        "  plot=continuois_d_factors_hist,\n",
        "  path='img')\n",
        "\n\n",
        "continuois_d_factors_preq <- d_factors[,c(4,5)] %>%\n",
        "    gather(key=\"questions\", value=\"answers\") %>%\n",
        "    ggplot(aes(x = answers)) +\n",
        "    geom_freqpoly(binwidth=BIN_WIDTH) +\n",
        "    facet_wrap(~questions,scales = \"free\", ncol=1)\n",
        "\n",
        "ggsave(filename=\"continuous_deciding_factors_freqp.png\",\n",
        "  plot=continuois_d_factors_preq,\n",
        "  path='img')\n"
      ],
      "outputs": [],
      "execution_count": null,
      "metadata": {
        "collapsed": false,
        "outputHidden": false,
        "inputHidden": false
      }
    },
    {
      "cell_type": "code",
      "source": [
        "# plot the retention questions\n",
        "#summary(retentions)\n",
        "\n",
        "retentions <- sapply( retentions, as.character )\n",
        "\n",
        "retentions <- as.data.frame(retentions)\n",
        "\n",
        "retentions_plot <- retentions %>%\n",
        "  gather(key=\"questions\", value=\"answers\") %>%\n",
        "  mutate(questions = str_wrap(questions, width =  30)) %>%\n",
        "  ggplot(aes(x = answers)) +\n",
        "  geom_bar(stat=\"count\") +\n",
        "  facet_wrap(~questions,scales = \"free\", ncol=3)\n",
        "\n",
        "ggsave(filename=\"retentions.png\",\n",
        "  plot=retentions_plot,\n",
        "  path='img')"
      ],
      "outputs": [],
      "execution_count": null,
      "metadata": {
        "collapsed": false,
        "outputHidden": false,
        "inputHidden": false
      }
    }
  ],
  "metadata": {
    "kernelspec": {
      "argv": [
        "/Library/Frameworks/R.framework/Resources/bin/R",
        "--slave",
        "-e",
        "IRkernel::main()",
        "--args",
        "{connection_file}"
      ],
      "display_name": "R",
      "language": "R",
      "name": "ir"
    }
  },
  "nbformat": 4,
  "nbformat_minor": 4
}